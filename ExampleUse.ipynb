{
 "cells": [
  {
   "cell_type": "markdown",
   "id": "6c52b0c5",
   "metadata": {},
   "source": [
    "## Basic structure\n",
    "\n",
    "Various input files will be in disparate formats.  The intention here is to parse them into a standardized format.\n",
    "\n",
    "* baseMethod.py contains a dataclass called **genericLoggerFile** which is the template for standardizing data and metadata between file types.\n",
    "* All methods which parse a given file type, will "
   ]
  },
  {
   "cell_type": "code",
   "execution_count": 95,
   "id": "4d6ea4c3",
   "metadata": {},
   "outputs": [
    {
     "data": {
      "text/plain": [
       "{'sourceFile': Field(name='sourceFile',type=<class 'str'>,default=<dataclasses._MISSING_TYPE object at 0x0000022DDF182D80>,default_factory=<dataclasses._MISSING_TYPE object at 0x0000022DDF182D80>,init=True,repr=False,hash=None,compare=True,metadata=mappingproxy({}),kw_only=True,_field_type=_FIELD),\n",
       " 'timezone': Field(name='timezone',type=<class 'str'>,default='UTC',default_factory=<dataclasses._MISSING_TYPE object at 0x0000022DDF182D80>,init=True,repr=True,hash=None,compare=True,metadata=mappingproxy({}),kw_only=True,_field_type=_FIELD),\n",
       " 'fileType': Field(name='fileType',type=<class 'str'>,default=None,default_factory=<dataclasses._MISSING_TYPE object at 0x0000022DDF182D80>,init=True,repr=True,hash=None,compare=True,metadata=mappingproxy({}),kw_only=True,_field_type=_FIELD),\n",
       " 'frequency': Field(name='frequency',type=<class 'str'>,default=None,default_factory=<dataclasses._MISSING_TYPE object at 0x0000022DDF182D80>,init=True,repr=True,hash=None,compare=True,metadata=mappingproxy({}),kw_only=True,_field_type=_FIELD),\n",
       " 'timestampName': Field(name='timestampName',type=<class 'str'>,default='TIMESTAMP',default_factory=<dataclasses._MISSING_TYPE object at 0x0000022DDF182D80>,init=True,repr=True,hash=None,compare=True,metadata=mappingproxy({}),kw_only=True,_field_type=_FIELD),\n",
       " 'fileTimestamp': Field(name='fileTimestamp',type=<class 'str'>,default='%Y_%m_%d_%H%M',default_factory=<dataclasses._MISSING_TYPE object at 0x0000022DDF182D80>,init=True,repr=False,hash=None,compare=True,metadata=mappingproxy({}),kw_only=True,_field_type=_FIELD),\n",
       " 'variableMap': Field(name='variableMap',type=<class 'dict'>,default=<dataclasses._MISSING_TYPE object at 0x0000022DDF182D80>,default_factory=<function genericLoggerFile.<lambda> at 0x0000022DFFE99080>,init=True,repr=True,hash=None,compare=True,metadata=mappingproxy({}),kw_only=True,_field_type=_FIELD),\n",
       " 'DataFrame': Field(name='DataFrame',type=<class 'pandas.core.frame.DataFrame'>,default=<dataclasses._MISSING_TYPE object at 0x0000022DDF182D80>,default_factory=<class 'pandas.core.frame.DataFrame'>,init=True,repr=False,hash=None,compare=True,metadata=mappingproxy({}),kw_only=True,_field_type=_FIELD),\n",
       " 'verbose': Field(name='verbose',type=<class 'bool'>,default=False,default_factory=<dataclasses._MISSING_TYPE object at 0x0000022DDF182D80>,init=True,repr=False,hash=None,compare=True,metadata=mappingproxy({}),kw_only=True,_field_type=_FIELD),\n",
       " 'binZip': Field(name='binZip',type=<class 'bool'>,default=False,default_factory=<dataclasses._MISSING_TYPE object at 0x0000022DDF182D80>,init=True,repr=False,hash=None,compare=True,metadata=mappingproxy({}),kw_only=True,_field_type=_FIELD),\n",
       " 'dropCols': Field(name='dropCols',type=<class 'list'>,default=<dataclasses._MISSING_TYPE object at 0x0000022DDF182D80>,default_factory=<function genericLoggerFile.<lambda> at 0x0000022DFFE994E0>,init=True,repr=False,hash=None,compare=True,metadata=mappingproxy({}),kw_only=True,_field_type=_FIELD)}"
      ]
     },
     "execution_count": 95,
     "metadata": {},
     "output_type": "execute_result"
    }
   ],
   "source": [
    "import importlib\n",
    "import baseMethods\n",
    "importlib.reload(baseMethods)\n",
    "\n",
    "# the .__dataclass_fields__ attribute prints the names of the fields in a dataclass and metadata like their default values\n",
    "baseMethods.genericLoggerFile(sourceFile='some/path/to/a/file').__dataclass_fields__\n",
    "# baseMethods._metadata(variableMap='a')"
   ]
  },
  {
   "cell_type": "markdown",
   "id": "652f1fdb",
   "metadata": {},
   "source": [
    "## Parsing a Campbell Scientific File\n",
    "\n",
    "The parseCSI module handles the logger-specific tasks.  There are a multiple different files formats which may be output from a campbell scientific logger.  So far, the module supports:\n",
    "\n",
    "\n",
    "* **TOB3**: a machine readable (binary) data file along with a human readable text (ascii) header in comma delimited format.  \"add link to docs\"\n",
    "\n",
    "* **TOA5**: a human readable text (ascii) file in comma delimited format.  \"add link to docs\"\n",
    "\n",
    "If we want to parse a TOA5 file, we can call parseCSI.TOA5(sourceFile=path/to/your/file ), where sourcefile.  It will automatically parse out all relevant metadata contained within the file and convert to a standardized format which can be written to the database.  We can also overwrite the metadata as needed,"
   ]
  },
  {
   "cell_type": "code",
   "execution_count": 96,
   "id": "c945e16b",
   "metadata": {},
   "outputs": [
    {
     "name": "stdout",
     "output_type": "stream",
     "text": [
      "CHodeIE\n"
     ]
    },
    {
     "data": {
      "text/plain": [
       "{'sourceFile': Field(name='sourceFile',type=<class 'str'>,default=<dataclasses._MISSING_TYPE object at 0x0000022DDF182D80>,default_factory=<dataclasses._MISSING_TYPE object at 0x0000022DDF182D80>,init=True,repr=False,hash=None,compare=True,metadata=mappingproxy({}),kw_only=True,_field_type=_FIELD),\n",
       " 'timezone': Field(name='timezone',type=<class 'str'>,default='UTC',default_factory=<dataclasses._MISSING_TYPE object at 0x0000022DDF182D80>,init=True,repr=True,hash=None,compare=True,metadata=mappingproxy({}),kw_only=True,_field_type=_FIELD),\n",
       " 'fileType': Field(name='fileType',type=<class 'str'>,default=None,default_factory=<dataclasses._MISSING_TYPE object at 0x0000022DDF182D80>,init=True,repr=True,hash=None,compare=True,metadata=mappingproxy({}),kw_only=True,_field_type=_FIELD),\n",
       " 'frequency': Field(name='frequency',type=<class 'str'>,default=None,default_factory=<dataclasses._MISSING_TYPE object at 0x0000022DDF182D80>,init=True,repr=True,hash=None,compare=True,metadata=mappingproxy({}),kw_only=True,_field_type=_FIELD),\n",
       " 'timestampName': Field(name='timestampName',type=<class 'str'>,default='TIMESTAMP',default_factory=<dataclasses._MISSING_TYPE object at 0x0000022DDF182D80>,init=True,repr=True,hash=None,compare=True,metadata=mappingproxy({}),kw_only=True,_field_type=_FIELD),\n",
       " 'fileTimestamp': Field(name='fileTimestamp',type=<class 'str'>,default='%Y_%m_%d_%H%M',default_factory=<dataclasses._MISSING_TYPE object at 0x0000022DDF182D80>,init=True,repr=False,hash=None,compare=True,metadata=mappingproxy({}),kw_only=True,_field_type=_FIELD),\n",
       " 'variableMap': Field(name='variableMap',type=<class 'dict'>,default=<dataclasses._MISSING_TYPE object at 0x0000022DDF182D80>,default_factory=<function genericLoggerFile.<lambda> at 0x0000022DFFE99080>,init=True,repr=True,hash=None,compare=True,metadata=mappingproxy({}),kw_only=True,_field_type=_FIELD),\n",
       " 'DataFrame': Field(name='DataFrame',type=<class 'pandas.core.frame.DataFrame'>,default=<dataclasses._MISSING_TYPE object at 0x0000022DDF182D80>,default_factory=<class 'pandas.core.frame.DataFrame'>,init=True,repr=False,hash=None,compare=True,metadata=mappingproxy({}),kw_only=True,_field_type=_FIELD),\n",
       " 'verbose': Field(name='verbose',type=<class 'bool'>,default=False,default_factory=<dataclasses._MISSING_TYPE object at 0x0000022DDF182D80>,init=True,repr=False,hash=None,compare=True,metadata=mappingproxy({}),kw_only=True,_field_type=_FIELD),\n",
       " 'binZip': Field(name='binZip',type=<class 'bool'>,default=False,default_factory=<dataclasses._MISSING_TYPE object at 0x0000022DDF182D80>,init=True,repr=False,hash=None,compare=True,metadata=mappingproxy({}),kw_only=True,_field_type=_FIELD),\n",
       " 'dropCols': Field(name='dropCols',type=<class 'list'>,default=<dataclasses._MISSING_TYPE object at 0x0000022DDF182D80>,default_factory=<function genericLoggerFile.<lambda> at 0x0000022DFFE994E0>,init=True,repr=False,hash=None,compare=True,metadata=mappingproxy({}),kw_only=True,_field_type=_FIELD),\n",
       " 'fileObject': Field(name='fileObject',type=<class 'object'>,default=None,default_factory=<dataclasses._MISSING_TYPE object at 0x0000022DDF182D80>,init=True,repr=False,hash=None,compare=True,metadata=mappingproxy({}),kw_only=True,_field_type=_FIELD),\n",
       " 'preamble': Field(name='preamble',type=<class 'list'>,default=<dataclasses._MISSING_TYPE object at 0x0000022DDF182D80>,default_factory=<function asciiHeader.<lambda> at 0x0000022D811551C0>,init=True,repr=False,hash=None,compare=True,metadata=mappingproxy({}),kw_only=True,_field_type=_FIELD),\n",
       " 'StationName': Field(name='StationName',type=<class 'str'>,default=None,default_factory=<dataclasses._MISSING_TYPE object at 0x0000022DDF182D80>,init=True,repr=True,hash=None,compare=True,metadata=mappingproxy({}),kw_only=True,_field_type=_FIELD),\n",
       " 'LoggerModel': Field(name='LoggerModel',type=<class 'str'>,default=None,default_factory=<dataclasses._MISSING_TYPE object at 0x0000022DDF182D80>,init=True,repr=True,hash=None,compare=True,metadata=mappingproxy({}),kw_only=True,_field_type=_FIELD),\n",
       " 'SerialNo': Field(name='SerialNo',type=<class 'str'>,default=None,default_factory=<dataclasses._MISSING_TYPE object at 0x0000022DDF182D80>,init=True,repr=True,hash=None,compare=True,metadata=mappingproxy({}),kw_only=True,_field_type=_FIELD),\n",
       " 'program': Field(name='program',type=<class 'str'>,default=None,default_factory=<dataclasses._MISSING_TYPE object at 0x0000022DDF182D80>,init=True,repr=True,hash=None,compare=True,metadata=mappingproxy({}),kw_only=True,_field_type=_FIELD),\n",
       " 'Table': Field(name='Table',type=<class 'str'>,default=None,default_factory=<dataclasses._MISSING_TYPE object at 0x0000022DDF182D80>,init=True,repr=True,hash=None,compare=True,metadata=mappingproxy({}),kw_only=True,_field_type=_FIELD),\n",
       " 'byteMap': Field(name='byteMap',type=<class 'str'>,default=None,default_factory=<dataclasses._MISSING_TYPE object at 0x0000022DDF182D80>,init=True,repr=True,hash=None,compare=True,metadata=mappingproxy({}),kw_only=True,_field_type=_FIELD),\n",
       " 'summaryStats': Field(name='summaryStats',type=<class 'list'>,default=<dataclasses._MISSING_TYPE object at 0x0000022DDF182D80>,default_factory=<function asciiHeader.<lambda> at 0x0000022D81155800>,init=True,repr=False,hash=None,compare=True,metadata=mappingproxy({}),kw_only=True,_field_type=_FIELD),\n",
       " 'writeBinary': Field(name='writeBinary',type=<class 'bool'>,default=False,default_factory=<dataclasses._MISSING_TYPE object at 0x0000022DDF182D80>,init=True,repr=True,hash=None,compare=True,metadata=mappingproxy({}),kw_only=True,_field_type=_FIELD)}"
      ]
     },
     "execution_count": 96,
     "metadata": {},
     "output_type": "execute_result"
    }
   ],
   "source": [
    "import parseCSI\n",
    "importlib.reload(parseCSI)\n",
    "\n",
    "\n",
    "file = 'example_data/TOA5_BBS.FLUX_2023_08_01_1530.dat'\n",
    "\n",
    "TOA5_example = parseCSI.TOA5(sourceFile=file)\n",
    "\n",
    "# The parseTOA5 dataclass has its onw fields plus all fields it inherits from the base dataclass (genericLoggerFile)\n",
    "TOA5_example.__dataclass_fields__"
   ]
  },
  {
   "cell_type": "markdown",
   "id": "3d857457",
   "metadata": {},
   "source": [
    "### Looking inside a parsed input file\n",
    "\n",
    "The basic component of all processed logger files will include:\n",
    "\n",
    "* A pandas DataFrame with a datetime index containing all data which can be read form the raw data file\n",
    "    * timezone and frequency are metatadata provided as separate fields in the object\n",
    "    * The routine will attempt to automatically parse the timestamp from the input files.  For standard file types (CSI, GHG, etc.) this is simple.  For some custom formats, the user will need to specify the timestamp format.\n",
    "* a variableMap \n",
    "    * A mapping of each column in the dataframe to with metadata including.  Some of these metadata can be automatically parsed from the files, depending on the file type.  Otherwise the can be provided by the user (see next second code example below)\n",
    "        * Original column name (spaces and special characters are replaced with _)\n",
    "        * Units & data type\n",
    "        * Sensor information \n",
    "        * Variable description"
   ]
  },
  {
   "cell_type": "code",
   "execution_count": 3,
   "id": "e3036146",
   "metadata": {},
   "outputs": [
    {
     "name": "stdout",
     "output_type": "stream",
     "text": [
      "northOffset: None\n",
      "Latitude: None\n",
      "Longitude: None\n",
      "Elevation: None\n",
      "sourceFile: example_data/TOA5_BBS.FLUX_2023_08_01_1530.dat\n",
      "timezone: UTC\n",
      "fileType: TOA5\n",
      "frequency: 0.1s\n",
      "timestampName: TIMESTAMP\n",
      "fileTimestamp: 2023_08_01_1530\n",
      "variableMap: {'RECORD': {'originalName': 'RECORD', 'safeName': 'RECORD', 'ignore': False, 'instrument': None, 'unit': 'RN', 'dtype': '<i8', 'variableDescription': ''}, 'Ux': {'originalName': 'Ux', 'safeName': 'Ux', 'ignore': False, 'instrument': None, 'unit': 'm/s', 'dtype': '<f8', 'variableDescription': 'Smp'}, 'Uy': {'originalName': 'Uy', 'safeName': 'Uy', 'ignore': False, 'instrument': None, 'unit': 'm/s', 'dtype': '<f8', 'variableDescription': 'Smp'}, 'Uz': {'originalName': 'Uz', 'safeName': 'Uz', 'ignore': False, 'instrument': None, 'unit': 'm/s', 'dtype': '<f8', 'variableDescription': 'Smp'}, 'Ts': {'originalName': 'Ts', 'safeName': 'Ts', 'ignore': False, 'instrument': None, 'unit': 'C', 'dtype': '<f8', 'variableDescription': 'Smp'}, 'sonic_diag': {'originalName': 'sonic_diag', 'safeName': 'sonic_diag', 'ignore': False, 'instrument': None, 'unit': 'arb', 'dtype': '<i8', 'variableDescription': 'Smp'}, 'CO2': {'originalName': 'CO2', 'safeName': 'CO2', 'ignore': False, 'instrument': None, 'unit': 'mg/m3', 'dtype': '<f8', 'variableDescription': 'Smp'}, 'H2O': {'originalName': 'H2O', 'safeName': 'H2O', 'ignore': False, 'instrument': None, 'unit': 'mg/m3', 'dtype': '<f8', 'variableDescription': 'Smp'}, 'press': {'originalName': 'press', 'safeName': 'press', 'ignore': False, 'instrument': None, 'unit': 'kPa', 'dtype': '<f8', 'variableDescription': 'Smp'}, 'irga_diag': {'originalName': 'irga_diag', 'safeName': 'irga_diag', 'ignore': False, 'instrument': None, 'unit': 'arb', 'dtype': '<i8', 'variableDescription': 'Smp'}, None: {'originalName': None, 'safeName': None, 'ignore': None, 'instrument': None, 'unit': 'TS', 'dtype': None, 'variableDescription': ''}}\n",
      "DataFrame:                           RECORD       Ux       Uy       Uz        Ts  \\\n",
      "TIMESTAMP                                                               \n",
      "2023-08-01 15:00:00.200  9455403  1.01600  1.21250  0.03475  26.94525   \n",
      "2023-08-01 15:00:00.300  9455404  1.08300  0.83575  0.37975  27.49509   \n",
      "2023-08-01 15:00:00.400  9455405  0.87350  1.01550  0.16575  27.23050   \n",
      "2023-08-01 15:00:00.500  9455406  0.80325  1.37725  0.09625  27.17688   \n",
      "2023-08-01 15:00:00.600  9455407  0.80075  1.31025  0.31650  27.25467   \n",
      "...                          ...      ...      ...      ...       ...   \n",
      "2023-08-01 15:29:59.700  9473398  0.74025 -0.05375  0.68875  28.10779   \n",
      "2023-08-01 15:29:59.800  9473399  0.38125 -0.43575  0.78025  28.10431   \n",
      "2023-08-01 15:29:59.900  9473400  0.08250 -0.34875  0.78875  28.06451   \n",
      "2023-08-01 15:30:00.000  9473401  0.36625 -0.32950  0.93600  28.76794   \n",
      "2023-08-01 15:30:00.100  9473402  0.54425 -0.35450  0.91325  29.35068   \n",
      "\n",
      "                         sonic_diag       CO2       H2O     press  irga_diag  \n",
      "TIMESTAMP                                                                     \n",
      "2023-08-01 15:00:00.200           0  723.3319  11.14806  102.1824        249  \n",
      "2023-08-01 15:00:00.300           1  723.9941  11.06973  102.1197        249  \n",
      "2023-08-01 15:00:00.400           2  721.9471  11.31256  102.1197        249  \n",
      "2023-08-01 15:00:00.500           3  721.6195  11.36601  102.1091        249  \n",
      "2023-08-01 15:00:00.600           4  721.8223  11.34038  102.1457        249  \n",
      "...                             ...       ...       ...       ...        ...  \n",
      "2023-08-01 15:29:59.700          11  720.5905  11.13130  102.1197        249  \n",
      "2023-08-01 15:29:59.800          12  720.3929  11.16998  102.0985        249  \n",
      "2023-08-01 15:29:59.900          13  720.3505  11.14703  102.1563        249  \n",
      "2023-08-01 15:30:00.000          14  719.5184  11.21988  102.1091        249  \n",
      "2023-08-01 15:30:00.100          15  715.4084  11.51652  102.0936        249  \n",
      "\n",
      "[18000 rows x 10 columns]\n",
      "verbose: False\n",
      "binZip: False\n",
      "dropCols: []\n",
      "fileObject: <_io.TextIOWrapper name='example_data/TOA5_BBS.FLUX_2023_08_01_1530.dat' mode='r' encoding='utf-8'>\n",
      "preamble: ['TOA5', 'BBS', 'CR1000', '9816', 'CR1000.Std.30.01', 'CPU:BBS_Flux_Tower_10hz_wRad.cr1', '55450', 'FLUX']\n",
      "StationName: BBS\n",
      "LoggerModel: CR1000\n",
      "SerialNo: 9816\n",
      "program: None\n",
      "Table: FLUX\n",
      "byteMap: None\n",
      "summaryStats: []\n",
      "writeBinary: False\n"
     ]
    }
   ],
   "source": [
    "# the __dict__ attribute prints the names of the fields in a dataclass and their values\n",
    "for key,value in TOA5_example.__dict__.items():\n",
    "    print(f'{key}: {value}')"
   ]
  },
  {
   "cell_type": "markdown",
   "id": "d115492e",
   "metadata": {},
   "source": [
    "### Defining the variableMap\n",
    "\n",
    "* The variableMap is a dictionary with a set of fields which are a applied on a per-column (variable) basis.  They can be user defined, or automatically parsed from the file where possible, or if all else values, the will take the default values defined for _variableMap.\n",
    "\n",
    "* Say you want to overwrite the default metadata values for the \"sonic_diag\" column in example_data/TOA5_BBS.FLUX_2023_08_01_1530.dat because it is actually a counter variable that was misslabeled in the code.  We want to ignore the variable in further processing and add a note to explain why.  We can define variable map for sonic_diag while leaving all other information to be parsed automatically or set to the default.\n",
    "\n",
    "* The variableMap for a given input file type for a given site/logger can then be saved as a YAML file so the metadata are in an easy to read format.  We still need to put in some thought into handling time-dependent updates to the metadata.  Where the metatada are common between timestamps we can minimize storage by having one yaml file per time-block.  When the metadata update we need a new file (full or just partial documenting changes \n",
    "    + I think full is more readable even if it takes more space).  We then need an time-dependent index of the metatada files so things can be matched up correctly."
   ]
  },
  {
   "cell_type": "code",
   "execution_count": 4,
   "id": "df672489",
   "metadata": {},
   "outputs": [
    {
     "name": "stdout",
     "output_type": "stream",
     "text": [
      "RECORD:\n",
      "  originalName: RECORD\n",
      "  safeName: RECORD\n",
      "  ignore: false\n",
      "  instrument: null\n",
      "  unit: RN\n",
      "  dtype: <i8\n",
      "  variableDescription: ''\n",
      "Ux:\n",
      "  originalName: Ux\n",
      "  safeName: Ux\n",
      "  ignore: false\n",
      "  instrument: null\n",
      "  unit: m/s\n",
      "  dtype: <f8\n",
      "  variableDescription: Smp\n",
      "Uy:\n",
      "  originalName: Uy\n",
      "  safeName: Uy\n",
      "  ignore: false\n",
      "  instrument: null\n",
      "  unit: m/s\n",
      "  dtype: <f8\n",
      "  variableDescription: Smp\n",
      "Uz:\n",
      "  originalName: Uz\n",
      "  safeName: Uz\n",
      "  ignore: false\n",
      "  instrument: null\n",
      "  unit: m/s\n",
      "  dtype: <f8\n",
      "  variableDescription: Smp\n",
      "Ts:\n",
      "  originalName: Ts\n",
      "  safeName: Ts\n",
      "  ignore: false\n",
      "  instrument: null\n",
      "  unit: C\n",
      "  dtype: <f8\n",
      "  variableDescription: Smp\n",
      "sonic_diag:\n",
      "  originalName: sonic_diag\n",
      "  safeName: sonic_diag\n",
      "  ignore: true\n",
      "  instrument: null\n",
      "  unit: unitless\n",
      "  dtype: <i8\n",
      "  variableDescription: The diagnostic variable is corrupted and should be ignored\n",
      "CO2:\n",
      "  originalName: CO2\n",
      "  safeName: CO2\n",
      "  ignore: false\n",
      "  instrument: null\n",
      "  unit: mg/m3\n",
      "  dtype: <f8\n",
      "  variableDescription: Smp\n",
      "H2O:\n",
      "  originalName: H2O\n",
      "  safeName: H2O\n",
      "  ignore: false\n",
      "  instrument: null\n",
      "  unit: mg/m3\n",
      "  dtype: <f8\n",
      "  variableDescription: Smp\n",
      "press:\n",
      "  originalName: press\n",
      "  safeName: press\n",
      "  ignore: false\n",
      "  instrument: null\n",
      "  unit: kPa\n",
      "  dtype: <f8\n",
      "  variableDescription: Smp\n",
      "irga_diag:\n",
      "  originalName: irga_diag\n",
      "  safeName: irga_diag\n",
      "  ignore: false\n",
      "  instrument: null\n",
      "  unit: arb\n",
      "  dtype: <i8\n",
      "  variableDescription: Smp\n",
      "null:\n",
      "  originalName: null\n",
      "  safeName: null\n",
      "  ignore: null\n",
      "  instrument: null\n",
      "  unit: TS\n",
      "  dtype: null\n",
      "  variableDescription: ''\n",
      "\n"
     ]
    }
   ],
   "source": [
    "TOA5_example_custom_varMap = parseCSI.TOA5(\n",
    "    sourceFile=file,\n",
    "    variableMap={'sonic_diag':{\n",
    "        'variableDescription':'The diagnostic variable is corrupted and should be ignored',\n",
    "        'ignore':True,\n",
    "        'unit':'unitless',\n",
    "        },\n",
    "    }\n",
    ")\n",
    "\n",
    "import yaml\n",
    "print(yaml.safe_dump(TOA5_example_custom_varMap.variableMap,sort_keys=False))"
   ]
  },
  {
   "cell_type": "markdown",
   "id": "92a57b45",
   "metadata": {},
   "source": [
    "## Parsing at TOB5 file\n",
    "\n",
    "* Say you want to do the exact same thing as above, but for a TOB3 file.  Use can use the same syntax, just call parseCSI.TOB5() instead.\n",
    "\n",
    "* Note, we can also set metadata fields which are not included in a file if needed, like the north offset \n",
    "\n"
   ]
  },
  {
   "cell_type": "code",
   "execution_count": 5,
   "id": "714aa20a",
   "metadata": {},
   "outputs": [
    {
     "data": {
      "text/plain": [
       "Index(['Ux', 'Uy', 'Uz', 'Ts', 'Diagnostic_CSAT', 'CO2', 'H2O', 'press',\n",
       "       'LI7500_diag', 'LI7550_SignalStrength', 'seconds', 'nanoseconds',\n",
       "       'Diagnostic_7700', 'CH4_density', 'CH4_mole_fraction', 'Temperature',\n",
       "       'Pressure', 'RSSI'],\n",
       "      dtype='object')"
      ]
     },
     "execution_count": 5,
     "metadata": {},
     "output_type": "execute_result"
    }
   ],
   "source": [
    "file = 'example_data/Flux_Data640.dat'\n",
    "TOB3_example = parseCSI.TOB3(sourceFile=file,northOffset=40)\n",
    "\n",
    "# # the __dict__ attribute prints the names of the fields in a dataclass and their values\n",
    "# for key,value in TOB3_example.__dict__.items():\n",
    "#     print(f'{key}: {value}')\n",
    "TOB3_example.DataFrame.columns\n"
   ]
  },
  {
   "cell_type": "code",
   "execution_count": 6,
   "id": "a69c4787",
   "metadata": {},
   "outputs": [
    {
     "data": {
      "image/png": "[encoded data removed]",
      "text/plain": [
       "<Figure size 640x480 with 2 Axes>"
      ]
     },
     "metadata": {},
     "output_type": "display_data"
    }
   ],
   "source": [
    "import matplotlib.pyplot as plt\n",
    "import numpy as np\n",
    "\n",
    "df = TOB3_example.DataFrame.copy()\n",
    "\n",
    "df['wind_dir'] = np.rad2deg(np.arctan2(df['Ux'],df['Uy']))+TOB3_example.northOffset\n",
    "df['wind_speed'] = (df['Ux']**2+df['Uy']**2)**.5\n",
    "\n",
    "\n",
    "plt.figure()\n",
    "\n",
    "ax1 = plt.subplot(2,1,1,polar=True)\n",
    "ax2 = plt.subplot(2,1,2)\n",
    "\n",
    "ax1.set_theta_direction(-1)\n",
    "ax1.set_theta_offset(np.deg2rad(90))\n",
    "\n",
    "y = df['Uy'].values\n",
    "x = df['Ux'].values\n",
    "\n",
    "\n",
    "# df[['wind_dir','wind_speed','Ux','Uy']]\n",
    "ax1.scatter(np.deg2rad(df['wind_dir']),df['wind_speed'])\n",
    "\n",
    "ax2.plot(df['CH4_mole_fraction'])\n",
    "\n",
    "plt.tight_layout()"
   ]
  },
  {
   "cell_type": "markdown",
   "id": "add8a86e",
   "metadata": {},
   "source": [
    "## Parsing CSV files\n",
    "\n",
    "There are any number of different csv formats we may want to work with.  The parseCSV.genericCSV() should be able to handle most general use cases.  However we can create wrappers for specific use cases.\n",
    "\n",
    "* One such case is csv files output from HOBO data loggers.  They have odd timestamp formats and some specific information in the header of the csv file.  The parseCSV.hoboCSV() module handles that for us.\n",
    "    * See parseCSV.hoboCSV().timestampFormat for an example of how the timestamp format of a hobo file can be formatted.\n",
    "        * Note this could vary depending on how the user output the data.  So the format needs to be manually determined/specified if it differs from the example format.\n",
    "    * HOBO csv files have a number of \"unsafe\" characters in their filename (degree symbols, backslashes, colons etc.)\n",
    "    * By default all \"unsafe\" characters (non-alphanumeric) are replaced by an underscore to create a \"safeName\" variable, which can be used to as the filename to save each variable as 1D binary array in the database.  This functionality is common across all classes (see baseMethods._variableMap.safeName).  \n",
    "        * Note that safeName is used as the key in the variableMap.  It is repeated as a value in the variableMap strictly for readability to help orient new users.\n",
    "    * If there are not forbidden characters then safeName == originalName\n",
    "* HOBO files have some \"junk\" columns which contain strings to denote when a logger is connected to a computer, and are otherwise blank.  Note that all non-numeric data are automatically set to ignore by baseMethods._variableMap().  \n",
    "    * Text data cannot natively be meaningfully incorporated into the database.  However when the inevitable use cases arises that we want to include some kind of categorical variable, we can add a function to generate numeric UID values for categorical data."
   ]
  },
  {
   "cell_type": "code",
   "execution_count": 7,
   "id": "25c33d12",
   "metadata": {},
   "outputs": [
    {
     "data": {
      "text/plain": [
       "{'_': {'originalName': '#',\n",
       "  'safeName': '_',\n",
       "  'ignore': True,\n",
       "  'instrument': None,\n",
       "  'unit': None,\n",
       "  'dtype': '<i8',\n",
       "  'variableDescription': None},\n",
       " 'Date_Time_GMT_00_00': {'originalName': 'Date Time, GMT+00:00',\n",
       "  'safeName': 'Date_Time_GMT_00_00',\n",
       "  'ignore': True,\n",
       "  'instrument': None,\n",
       "  'unit': None,\n",
       "  'dtype': '|O',\n",
       "  'variableDescription': None},\n",
       " 'Temp_C_LGR_S_N_20750528_SEN_S_N_20750528_LBL_5_': {'originalName': 'Temp, °C (LGR S/N: 20750528, SEN S/N: 20750528, LBL: 5)',\n",
       "  'safeName': 'Temp_C_LGR_S_N_20750528_SEN_S_N_20750528_LBL_5_',\n",
       "  'ignore': False,\n",
       "  'instrument': None,\n",
       "  'unit': None,\n",
       "  'dtype': '<f8',\n",
       "  'variableDescription': None},\n",
       " 'Temp_C_LGR_S_N_20750528_SEN_S_N_20750528_LBL_25_': {'originalName': 'Temp, °C (LGR S/N: 20750528, SEN S/N: 20750528, LBL: 25)',\n",
       "  'safeName': 'Temp_C_LGR_S_N_20750528_SEN_S_N_20750528_LBL_25_',\n",
       "  'ignore': False,\n",
       "  'instrument': None,\n",
       "  'unit': None,\n",
       "  'dtype': '<f8',\n",
       "  'variableDescription': None},\n",
       " 'Temp_C_LGR_S_N_20750528_SEN_S_N_20750528_LBL_50_': {'originalName': 'Temp, °C (LGR S/N: 20750528, SEN S/N: 20750528, LBL: 50)',\n",
       "  'safeName': 'Temp_C_LGR_S_N_20750528_SEN_S_N_20750528_LBL_50_',\n",
       "  'ignore': False,\n",
       "  'instrument': None,\n",
       "  'unit': None,\n",
       "  'dtype': '<f8',\n",
       "  'variableDescription': None},\n",
       " 'Temp_C_LGR_S_N_20750528_SEN_S_N_20750528_LBL_100_': {'originalName': 'Temp, °C (LGR S/N: 20750528, SEN S/N: 20750528, LBL: 100)',\n",
       "  'safeName': 'Temp_C_LGR_S_N_20750528_SEN_S_N_20750528_LBL_100_',\n",
       "  'ignore': False,\n",
       "  'instrument': None,\n",
       "  'unit': None,\n",
       "  'dtype': '<f8',\n",
       "  'variableDescription': None},\n",
       " 'Host_Connected_LGR_S_N_20750528_': {'originalName': 'Host Connected (LGR S/N: 20750528)',\n",
       "  'safeName': 'Host_Connected_LGR_S_N_20750528_',\n",
       "  'ignore': True,\n",
       "  'instrument': None,\n",
       "  'unit': None,\n",
       "  'dtype': '|O',\n",
       "  'variableDescription': None},\n",
       " 'Stopped_LGR_S_N_20750528_': {'originalName': 'Stopped (LGR S/N: 20750528)',\n",
       "  'safeName': 'Stopped_LGR_S_N_20750528_',\n",
       "  'ignore': True,\n",
       "  'instrument': None,\n",
       "  'unit': None,\n",
       "  'dtype': '|O',\n",
       "  'variableDescription': None},\n",
       " 'End_Of_File_LGR_S_N_20750528_': {'originalName': 'End Of File (LGR S/N: 20750528)',\n",
       "  'safeName': 'End_Of_File_LGR_S_N_20750528_',\n",
       "  'ignore': True,\n",
       "  'instrument': None,\n",
       "  'unit': None,\n",
       "  'dtype': '|O',\n",
       "  'variableDescription': None}}"
      ]
     },
     "execution_count": 7,
     "metadata": {},
     "output_type": "execute_result"
    }
   ],
   "source": [
    "importlib.reload(baseMethods)\n",
    "import parseCSV\n",
    "importlib.reload(parseCSV)\n",
    "\n",
    "hobo_csv_example = parseCSV.HOBO(sourceFile=r'example_data\\20750528-SHSC.SSM.SGT.240720_240913readout.csv')\n",
    "\n",
    "hobo_csv_example.variableMap \n",
    "\n",
    "\n"
   ]
  },
  {
   "cell_type": "markdown",
   "id": "05b7f559",
   "metadata": {},
   "source": [
    "## Renaming columns\n",
    "\n",
    "HOBO files tend to have verbose column headers which include many non-alphanumeric characters.  By default, all of these will be  forbidden characters.  -asc"
   ]
  },
  {
   "cell_type": "code",
   "execution_count": 37,
   "id": "00890bde",
   "metadata": {},
   "outputs": [],
   "source": [
    "importlib.reload(baseMethods)\n",
    "import parseCSV\n",
    "importlib.reload(parseCSV)\n",
    "\n",
    "\n",
    "variableMap = {\n",
    "    'Temp, °C (LGR S/N: 20750528, SEN S/N: 20750528, LBL: 5)':{\n",
    "        'safeName':'TS 5cm',\n",
    "        'unit':'degC',\n",
    "        'variableDescription':'Soil temperature profile, 5cm depth, Swiss Cheese Lake Salix Sedge Meadow Site',\n",
    "        'sensor':'Thermocouple'},\n",
    "    'Temp, °C (LGR S/N: 20750528, SEN S/N: 20750528, LBL: 25)':{\n",
    "        'safeName':'TS 25cm',\n",
    "        'unit':'degC',\n",
    "        'variableDescription':'Soil temperature profile, 5cm depth, Swiss Cheese Lake Salix Sedge Meadow Site',\n",
    "        'sensor':'Thermocouple'},\n",
    "    'Temp, °C (LGR S/N: 20750528, SEN S/N: 20750528, LBL: 50)':{\n",
    "        'safeName':'TS 50cm',\n",
    "        'unit':'degC',\n",
    "        'variableDescription':'Soil temperature profile, 5cm depth, Swiss Cheese Lake Salix Sedge Meadow Site',\n",
    "        'sensor':'Thermocouple'},\n",
    "    'Temp, °C (LGR S/N: 20750528, SEN S/N: 20750528, LBL: 100)':{\n",
    "        'safeName':'TS 100cm',\n",
    "        'unit':'degC',\n",
    "        'variableDescription':'Soil temperature profile, 5cm depth, Swiss Cheese Lake Salix Sedge Meadow Site',\n",
    "        'sensor':'Thermocouple'}\n",
    "}\n",
    "\n",
    "with open('example_data/variableMap_HOBO_example.yaml','w+') as f:\n",
    "    yaml.safe_dump(variableMap,f,sort_keys=False)\n",
    "\n",
    "# importlib.reload(parseCSV)\n",
    "# hobo_csv_example = parseCSV.HOBO(sourceFile=r'example_data\\20750528-SHSC.SSM.SGT.240720_240913readout.csv',\n",
    "#                                     variableMap = variableMap)\n",
    "\n",
    "# hobo_csv_example.variableMap"
   ]
  },
  {
   "cell_type": "code",
   "execution_count": null,
   "id": "44e060c1",
   "metadata": {},
   "outputs": [
    {
     "name": "stdout",
     "output_type": "stream",
     "text": [
      "4\n"
     ]
    },
    {
     "data": {
      "text/plain": [
       "te(a=4)"
      ]
     },
     "execution_count": 91,
     "metadata": {},
     "output_type": "execute_result"
    }
   ],
   "source": [
    "from dataclasses import dataclass,field\n",
    "\n",
    "class t:\n",
    "    def __init__(self,a=None):\n",
    "        self.a=a**a\n",
    "        print(self.a)\n",
    "\n",
    "@dataclass(kw_only=True)\n",
    "class te(t):\n",
    "    a: int = 1\n",
    "\n",
    "    def __post_init__(self):\n",
    "        super().__init__(self.a)#,a=self.a)\n",
    "        # print(self.a)\n",
    "\n",
    "@dataclass(kw_only=True)\n",
    "class ta(te):\n",
    "    b: int = 2\n",
    "\n",
    "    def __post_init__(self):\n",
    "        super().__post_init__()\n",
    "\n",
    "        print(self.a+self.b**2)\n",
    "\n",
    "te(a=2)"
   ]
  },
  {
   "cell_type": "code",
   "execution_count": 93,
   "id": "7fd46391",
   "metadata": {},
   "outputs": [
    {
     "ename": "TypeError",
     "evalue": "t.__init__() got an unexpected keyword argument 'b'",
     "output_type": "error",
     "traceback": [
      "\u001b[1;31m---------------------------------------------------------------------------\u001b[0m",
      "\u001b[1;31mTypeError\u001b[0m                                 Traceback (most recent call last)",
      "Cell \u001b[1;32mIn[93], line 1\u001b[0m\n\u001b[1;32m----> 1\u001b[0m \u001b[43mt\u001b[49m\u001b[43m(\u001b[49m\u001b[38;5;241;43m*\u001b[39;49m\u001b[38;5;241;43m*\u001b[39;49m\u001b[43m{\u001b[49m\u001b[38;5;124;43m'\u001b[39;49m\u001b[38;5;124;43ma\u001b[39;49m\u001b[38;5;124;43m'\u001b[39;49m\u001b[43m:\u001b[49m\u001b[38;5;241;43m1\u001b[39;49m\u001b[43m,\u001b[49m\u001b[38;5;124;43m'\u001b[39;49m\u001b[38;5;124;43mb\u001b[39;49m\u001b[38;5;124;43m'\u001b[39;49m\u001b[43m:\u001b[49m\u001b[38;5;241;43m2\u001b[39;49m\u001b[43m}\u001b[49m\u001b[43m)\u001b[49m\n",
      "\u001b[1;31mTypeError\u001b[0m: t.__init__() got an unexpected keyword argument 'b'"
     ]
    }
   ],
   "source": [
    "t(**{'a':1,'b':2})"
   ]
  }
 ],
 "metadata": {
  "kernelspec": {
   "display_name": "base",
   "language": "python",
   "name": "python3"
  },
  "language_info": {
   "codemirror_mode": {
    "name": "ipython",
    "version": 3
   },
   "file_extension": ".py",
   "mimetype": "text/x-python",
   "name": "python",
   "nbconvert_exporter": "python",
   "pygments_lexer": "ipython3",
   "version": "3.12.4"
  }
 },
 "nbformat": 4,
 "nbformat_minor": 5
}
